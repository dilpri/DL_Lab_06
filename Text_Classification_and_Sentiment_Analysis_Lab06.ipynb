{
  "nbformat": 4,
  "nbformat_minor": 0,
  "metadata": {
    "colab": {
      "name": "Text Classification and Sentiment Analysis Lab06.ipynb",
      "provenance": [],
      "collapsed_sections": [],
      "authorship_tag": "ABX9TyPNYH8CcU5X3BDoqb9fZC7q",
      "include_colab_link": true
    },
    "kernelspec": {
      "name": "python3",
      "display_name": "Python 3"
    },
    "language_info": {
      "name": "python"
    }
  },
  "cells": [
    {
      "cell_type": "markdown",
      "metadata": {
        "id": "view-in-github",
        "colab_type": "text"
      },
      "source": [
        "<a href=\"https://colab.research.google.com/github/dilpri/DL_Lab_06/blob/main/Text_Classification_and_Sentiment_Analysis_Lab06.ipynb\" target=\"_parent\"><img src=\"https://colab.research.google.com/assets/colab-badge.svg\" alt=\"Open In Colab\"/></a>"
      ]
    },
    {
      "cell_type": "code",
      "metadata": {
        "colab": {
          "base_uri": "https://localhost:8080/"
        },
        "id": "8CsPDo-keVmk",
        "outputId": "680c5523-c1e5-4a9b-ed1b-407273dcd76b"
      },
      "source": [
        "from google.colab import drive\n",
        "drive.mount('/content/drive')"
      ],
      "execution_count": 52,
      "outputs": [
        {
          "output_type": "stream",
          "name": "stdout",
          "text": [
            "Drive already mounted at /content/drive; to attempt to forcibly remount, call drive.mount(\"/content/drive\", force_remount=True).\n"
          ]
        }
      ]
    },
    {
      "cell_type": "code",
      "metadata": {
        "id": "hjTLdqAwZCMW"
      },
      "source": [
        "import pandas as pd\n",
        "import numpy as np\n",
        "import tensorflow as tf"
      ],
      "execution_count": 53,
      "outputs": []
    },
    {
      "cell_type": "code",
      "metadata": {
        "id": "FLD4GrUrGJXp"
      },
      "source": [
        "dataset=\"drive/My Drive/Movie Reviews Dataset.csv\""
      ],
      "execution_count": 54,
      "outputs": []
    },
    {
      "cell_type": "code",
      "metadata": {
        "id": "fI-8CAbXGJUE"
      },
      "source": [
        "df=pd.read_csv(dataset)"
      ],
      "execution_count": 55,
      "outputs": []
    },
    {
      "cell_type": "code",
      "metadata": {
        "colab": {
          "base_uri": "https://localhost:8080/",
          "height": 203
        },
        "id": "TV3zjDgVGJRi",
        "outputId": "7f01004f-4f23-4d9d-a1dd-3d5502ba5231"
      },
      "source": [
        "df.head()"
      ],
      "execution_count": 56,
      "outputs": [
        {
          "output_type": "execute_result",
          "data": {
            "text/html": [
              "<div>\n",
              "<style scoped>\n",
              "    .dataframe tbody tr th:only-of-type {\n",
              "        vertical-align: middle;\n",
              "    }\n",
              "\n",
              "    .dataframe tbody tr th {\n",
              "        vertical-align: top;\n",
              "    }\n",
              "\n",
              "    .dataframe thead th {\n",
              "        text-align: right;\n",
              "    }\n",
              "</style>\n",
              "<table border=\"1\" class=\"dataframe\">\n",
              "  <thead>\n",
              "    <tr style=\"text-align: right;\">\n",
              "      <th></th>\n",
              "      <th>A very, very, very slow-moving, aimless movie about a distressed, drifting young man.</th>\n",
              "      <th>0</th>\n",
              "    </tr>\n",
              "  </thead>\n",
              "  <tbody>\n",
              "    <tr>\n",
              "      <th>0</th>\n",
              "      <td>Not sure who was more lost - the flat characte...</td>\n",
              "      <td>0</td>\n",
              "    </tr>\n",
              "    <tr>\n",
              "      <th>1</th>\n",
              "      <td>Attempting artiness with black &amp; white and cle...</td>\n",
              "      <td>0</td>\n",
              "    </tr>\n",
              "    <tr>\n",
              "      <th>2</th>\n",
              "      <td>Very little music or anything to speak of.</td>\n",
              "      <td>0</td>\n",
              "    </tr>\n",
              "    <tr>\n",
              "      <th>3</th>\n",
              "      <td>The best scene in the movie was when Gerardo i...</td>\n",
              "      <td>1</td>\n",
              "    </tr>\n",
              "    <tr>\n",
              "      <th>4</th>\n",
              "      <td>The rest of the movie lacks art, charm, meanin...</td>\n",
              "      <td>0</td>\n",
              "    </tr>\n",
              "  </tbody>\n",
              "</table>\n",
              "</div>"
            ],
            "text/plain": [
              "  A very, very, very slow-moving, aimless movie about a distressed, drifting young man.    0\n",
              "0  Not sure who was more lost - the flat characte...                                       0\n",
              "1  Attempting artiness with black & white and cle...                                       0\n",
              "2       Very little music or anything to speak of.                                         0\n",
              "3  The best scene in the movie was when Gerardo i...                                       1\n",
              "4  The rest of the movie lacks art, charm, meanin...                                       0"
            ]
          },
          "metadata": {},
          "execution_count": 56
        }
      ]
    },
    {
      "cell_type": "code",
      "metadata": {
        "id": "HzB5jNGFGJPs"
      },
      "source": [
        "df = pd.read_csv(dataset,header = None)"
      ],
      "execution_count": 57,
      "outputs": []
    },
    {
      "cell_type": "code",
      "metadata": {
        "colab": {
          "base_uri": "https://localhost:8080/"
        },
        "id": "OBC0Lz-dd7Nl",
        "outputId": "960b81c3-8308-4628-bfba-59b96f0a25a7"
      },
      "source": [
        "len(df.columns)"
      ],
      "execution_count": 58,
      "outputs": [
        {
          "output_type": "execute_result",
          "data": {
            "text/plain": [
              "2"
            ]
          },
          "metadata": {},
          "execution_count": 58
        }
      ]
    },
    {
      "cell_type": "code",
      "metadata": {
        "id": "4a_uXgLOGJNT"
      },
      "source": [
        "df.columns = ['Sentence', 'Score']"
      ],
      "execution_count": 59,
      "outputs": []
    },
    {
      "cell_type": "code",
      "metadata": {
        "id": "eBh9lxTaGJKA"
      },
      "source": [
        "df.to_csv(dataset)\n",
        "                "
      ],
      "execution_count": 60,
      "outputs": []
    },
    {
      "cell_type": "code",
      "metadata": {
        "id": "TtqD8WjdGI5u",
        "colab": {
          "base_uri": "https://localhost:8080/",
          "height": 203
        },
        "outputId": "c799ada5-a944-4430-ff6d-ef9cc4cab089"
      },
      "source": [
        "df.head()"
      ],
      "execution_count": 61,
      "outputs": [
        {
          "output_type": "execute_result",
          "data": {
            "text/html": [
              "<div>\n",
              "<style scoped>\n",
              "    .dataframe tbody tr th:only-of-type {\n",
              "        vertical-align: middle;\n",
              "    }\n",
              "\n",
              "    .dataframe tbody tr th {\n",
              "        vertical-align: top;\n",
              "    }\n",
              "\n",
              "    .dataframe thead th {\n",
              "        text-align: right;\n",
              "    }\n",
              "</style>\n",
              "<table border=\"1\" class=\"dataframe\">\n",
              "  <thead>\n",
              "    <tr style=\"text-align: right;\">\n",
              "      <th></th>\n",
              "      <th>Sentence</th>\n",
              "      <th>Score</th>\n",
              "    </tr>\n",
              "  </thead>\n",
              "  <tbody>\n",
              "    <tr>\n",
              "      <th>0</th>\n",
              "      <td>A very, very, very slow-moving, aimless movie ...</td>\n",
              "      <td>0</td>\n",
              "    </tr>\n",
              "    <tr>\n",
              "      <th>1</th>\n",
              "      <td>Not sure who was more lost - the flat characte...</td>\n",
              "      <td>0</td>\n",
              "    </tr>\n",
              "    <tr>\n",
              "      <th>2</th>\n",
              "      <td>Attempting artiness with black &amp; white and cle...</td>\n",
              "      <td>0</td>\n",
              "    </tr>\n",
              "    <tr>\n",
              "      <th>3</th>\n",
              "      <td>Very little music or anything to speak of.</td>\n",
              "      <td>0</td>\n",
              "    </tr>\n",
              "    <tr>\n",
              "      <th>4</th>\n",
              "      <td>The best scene in the movie was when Gerardo i...</td>\n",
              "      <td>1</td>\n",
              "    </tr>\n",
              "  </tbody>\n",
              "</table>\n",
              "</div>"
            ],
            "text/plain": [
              "                                            Sentence  Score\n",
              "0  A very, very, very slow-moving, aimless movie ...      0\n",
              "1  Not sure who was more lost - the flat characte...      0\n",
              "2  Attempting artiness with black & white and cle...      0\n",
              "3       Very little music or anything to speak of.        0\n",
              "4  The best scene in the movie was when Gerardo i...      1"
            ]
          },
          "metadata": {},
          "execution_count": 61
        }
      ]
    },
    {
      "cell_type": "code",
      "metadata": {
        "id": "gfmpRBU6H4hX",
        "colab": {
          "base_uri": "https://localhost:8080/"
        },
        "outputId": "37ac562d-0b7b-4f00-a49d-b75802d829af"
      },
      "source": [
        "print(df)"
      ],
      "execution_count": 62,
      "outputs": [
        {
          "output_type": "stream",
          "name": "stdout",
          "text": [
            "                                              Sentence  Score\n",
            "0    A very, very, very slow-moving, aimless movie ...      0\n",
            "1    Not sure who was more lost - the flat characte...      0\n",
            "2    Attempting artiness with black & white and cle...      0\n",
            "3         Very little music or anything to speak of.        0\n",
            "4    The best scene in the movie was when Gerardo i...      1\n",
            "..                                                 ...    ...\n",
            "995  I just got bored watching Jessice Lange take h...      0\n",
            "996  Unfortunately, any virtue in this film's produ...      0\n",
            "997                   In a word, it is embarrassing.        0\n",
            "998                               Exceptionally bad!        0\n",
            "999  All in all its an insult to one's intelligence...      0\n",
            "\n",
            "[1000 rows x 2 columns]\n"
          ]
        }
      ]
    },
    {
      "cell_type": "code",
      "metadata": {
        "id": "IvPeWqNPH4d1",
        "colab": {
          "base_uri": "https://localhost:8080/"
        },
        "outputId": "2a4feca6-341d-4c9a-8020-ed6c9dc510b8"
      },
      "source": [
        "df['Score'].value_counts()"
      ],
      "execution_count": 63,
      "outputs": [
        {
          "output_type": "execute_result",
          "data": {
            "text/plain": [
              "1    500\n",
              "0    500\n",
              "Name: Score, dtype: int64"
            ]
          },
          "metadata": {},
          "execution_count": 63
        }
      ]
    },
    {
      "cell_type": "code",
      "metadata": {
        "id": "9o1lZknHH4bv"
      },
      "source": [
        "from bs4 import BeautifulSoup\n",
        "def strip_html(text):\n",
        "    soup = BeautifulSoup(text, \"html.parser\")\n",
        "    return soup.get_text()"
      ],
      "execution_count": 64,
      "outputs": []
    },
    {
      "cell_type": "code",
      "metadata": {
        "id": "dQLt_EnsH4Z4"
      },
      "source": [
        "import re\n",
        "def remove_between_square_brackets(text):\n",
        "    return re.sub('\\[[^]]*\\]', '', text)"
      ],
      "execution_count": 65,
      "outputs": []
    },
    {
      "cell_type": "code",
      "metadata": {
        "id": "kSLvrLVqH4NW"
      },
      "source": [
        "def denoise_text(text):\n",
        "    text = strip_html(text)\n",
        "    text = remove_between_square_brackets(text)\n",
        "    return text"
      ],
      "execution_count": 66,
      "outputs": []
    },
    {
      "cell_type": "code",
      "metadata": {
        "id": "FOMBQBkOH4J1"
      },
      "source": [
        "df['Sentence']=df['Sentence'].apply(denoise_text)"
      ],
      "execution_count": 67,
      "outputs": []
    },
    {
      "cell_type": "code",
      "metadata": {
        "id": "u41KtOt0H4H1",
        "colab": {
          "base_uri": "https://localhost:8080/",
          "height": 357
        },
        "outputId": "8e263beb-0c57-490a-e6b5-95672148576b"
      },
      "source": [
        "\n",
        "df.head(10)"
      ],
      "execution_count": 68,
      "outputs": [
        {
          "output_type": "execute_result",
          "data": {
            "text/html": [
              "<div>\n",
              "<style scoped>\n",
              "    .dataframe tbody tr th:only-of-type {\n",
              "        vertical-align: middle;\n",
              "    }\n",
              "\n",
              "    .dataframe tbody tr th {\n",
              "        vertical-align: top;\n",
              "    }\n",
              "\n",
              "    .dataframe thead th {\n",
              "        text-align: right;\n",
              "    }\n",
              "</style>\n",
              "<table border=\"1\" class=\"dataframe\">\n",
              "  <thead>\n",
              "    <tr style=\"text-align: right;\">\n",
              "      <th></th>\n",
              "      <th>Sentence</th>\n",
              "      <th>Score</th>\n",
              "    </tr>\n",
              "  </thead>\n",
              "  <tbody>\n",
              "    <tr>\n",
              "      <th>0</th>\n",
              "      <td>A very, very, very slow-moving, aimless movie ...</td>\n",
              "      <td>0</td>\n",
              "    </tr>\n",
              "    <tr>\n",
              "      <th>1</th>\n",
              "      <td>Not sure who was more lost - the flat characte...</td>\n",
              "      <td>0</td>\n",
              "    </tr>\n",
              "    <tr>\n",
              "      <th>2</th>\n",
              "      <td>Attempting artiness with black &amp; white and cle...</td>\n",
              "      <td>0</td>\n",
              "    </tr>\n",
              "    <tr>\n",
              "      <th>3</th>\n",
              "      <td>Very little music or anything to speak of.</td>\n",
              "      <td>0</td>\n",
              "    </tr>\n",
              "    <tr>\n",
              "      <th>4</th>\n",
              "      <td>The best scene in the movie was when Gerardo i...</td>\n",
              "      <td>1</td>\n",
              "    </tr>\n",
              "    <tr>\n",
              "      <th>5</th>\n",
              "      <td>The rest of the movie lacks art, charm, meanin...</td>\n",
              "      <td>0</td>\n",
              "    </tr>\n",
              "    <tr>\n",
              "      <th>6</th>\n",
              "      <td>Wasted two hours.</td>\n",
              "      <td>0</td>\n",
              "    </tr>\n",
              "    <tr>\n",
              "      <th>7</th>\n",
              "      <td>Saw the movie today and thought it was a good ...</td>\n",
              "      <td>1</td>\n",
              "    </tr>\n",
              "    <tr>\n",
              "      <th>8</th>\n",
              "      <td>A bit predictable.</td>\n",
              "      <td>0</td>\n",
              "    </tr>\n",
              "    <tr>\n",
              "      <th>9</th>\n",
              "      <td>Loved the casting of Jimmy Buffet as the scien...</td>\n",
              "      <td>1</td>\n",
              "    </tr>\n",
              "  </tbody>\n",
              "</table>\n",
              "</div>"
            ],
            "text/plain": [
              "                                            Sentence  Score\n",
              "0  A very, very, very slow-moving, aimless movie ...      0\n",
              "1  Not sure who was more lost - the flat characte...      0\n",
              "2  Attempting artiness with black & white and cle...      0\n",
              "3       Very little music or anything to speak of.        0\n",
              "4  The best scene in the movie was when Gerardo i...      1\n",
              "5  The rest of the movie lacks art, charm, meanin...      0\n",
              "6                                Wasted two hours.        0\n",
              "7  Saw the movie today and thought it was a good ...      1\n",
              "8                               A bit predictable.        0\n",
              "9  Loved the casting of Jimmy Buffet as the scien...      1"
            ]
          },
          "metadata": {},
          "execution_count": 68
        }
      ]
    },
    {
      "cell_type": "code",
      "metadata": {
        "id": "WdJAZoEYH4GC"
      },
      "source": [
        "def remove_special_characters(text, remove_digits=True):\n",
        "    pattern=r'[^a-zA-z0-9\\s]'\n",
        "    text=re.sub(pattern,'',text)\n",
        "    return text"
      ],
      "execution_count": 69,
      "outputs": []
    },
    {
      "cell_type": "code",
      "metadata": {
        "id": "Iboj7qFnH4Ez"
      },
      "source": [
        "df['Sentence']=df['Sentence'].apply(remove_special_characters)"
      ],
      "execution_count": 70,
      "outputs": []
    },
    {
      "cell_type": "code",
      "metadata": {
        "id": "sCQGUTqlH4CY",
        "colab": {
          "base_uri": "https://localhost:8080/",
          "height": 357
        },
        "outputId": "20630bb0-6a50-43a1-801f-494b9e547412"
      },
      "source": [
        "df.head(10)"
      ],
      "execution_count": 71,
      "outputs": [
        {
          "output_type": "execute_result",
          "data": {
            "text/html": [
              "<div>\n",
              "<style scoped>\n",
              "    .dataframe tbody tr th:only-of-type {\n",
              "        vertical-align: middle;\n",
              "    }\n",
              "\n",
              "    .dataframe tbody tr th {\n",
              "        vertical-align: top;\n",
              "    }\n",
              "\n",
              "    .dataframe thead th {\n",
              "        text-align: right;\n",
              "    }\n",
              "</style>\n",
              "<table border=\"1\" class=\"dataframe\">\n",
              "  <thead>\n",
              "    <tr style=\"text-align: right;\">\n",
              "      <th></th>\n",
              "      <th>Sentence</th>\n",
              "      <th>Score</th>\n",
              "    </tr>\n",
              "  </thead>\n",
              "  <tbody>\n",
              "    <tr>\n",
              "      <th>0</th>\n",
              "      <td>A very very very slowmoving aimless movie abou...</td>\n",
              "      <td>0</td>\n",
              "    </tr>\n",
              "    <tr>\n",
              "      <th>1</th>\n",
              "      <td>Not sure who was more lost  the flat character...</td>\n",
              "      <td>0</td>\n",
              "    </tr>\n",
              "    <tr>\n",
              "      <th>2</th>\n",
              "      <td>Attempting artiness with black  white and clev...</td>\n",
              "      <td>0</td>\n",
              "    </tr>\n",
              "    <tr>\n",
              "      <th>3</th>\n",
              "      <td>Very little music or anything to speak of</td>\n",
              "      <td>0</td>\n",
              "    </tr>\n",
              "    <tr>\n",
              "      <th>4</th>\n",
              "      <td>The best scene in the movie was when Gerardo i...</td>\n",
              "      <td>1</td>\n",
              "    </tr>\n",
              "    <tr>\n",
              "      <th>5</th>\n",
              "      <td>The rest of the movie lacks art charm meaning ...</td>\n",
              "      <td>0</td>\n",
              "    </tr>\n",
              "    <tr>\n",
              "      <th>6</th>\n",
              "      <td>Wasted two hours</td>\n",
              "      <td>0</td>\n",
              "    </tr>\n",
              "    <tr>\n",
              "      <th>7</th>\n",
              "      <td>Saw the movie today and thought it was a good ...</td>\n",
              "      <td>1</td>\n",
              "    </tr>\n",
              "    <tr>\n",
              "      <th>8</th>\n",
              "      <td>A bit predictable</td>\n",
              "      <td>0</td>\n",
              "    </tr>\n",
              "    <tr>\n",
              "      <th>9</th>\n",
              "      <td>Loved the casting of Jimmy Buffet as the scien...</td>\n",
              "      <td>1</td>\n",
              "    </tr>\n",
              "  </tbody>\n",
              "</table>\n",
              "</div>"
            ],
            "text/plain": [
              "                                            Sentence  Score\n",
              "0  A very very very slowmoving aimless movie abou...      0\n",
              "1  Not sure who was more lost  the flat character...      0\n",
              "2  Attempting artiness with black  white and clev...      0\n",
              "3        Very little music or anything to speak of        0\n",
              "4  The best scene in the movie was when Gerardo i...      1\n",
              "5  The rest of the movie lacks art charm meaning ...      0\n",
              "6                                 Wasted two hours        0\n",
              "7  Saw the movie today and thought it was a good ...      1\n",
              "8                                A bit predictable        0\n",
              "9  Loved the casting of Jimmy Buffet as the scien...      1"
            ]
          },
          "metadata": {},
          "execution_count": 71
        }
      ]
    },
    {
      "cell_type": "code",
      "metadata": {
        "id": "VDsv0B4zH32m"
      },
      "source": [
        "from sklearn.model_selection import train_test_split"
      ],
      "execution_count": 72,
      "outputs": []
    },
    {
      "cell_type": "code",
      "metadata": {
        "id": "QwtsRJzgpwro"
      },
      "source": [
        "X=df['Sentence'].values"
      ],
      "execution_count": 73,
      "outputs": []
    },
    {
      "cell_type": "code",
      "metadata": {
        "id": "FOnNyt29pwoL"
      },
      "source": [
        "\n",
        "Y=df['Score'].values"
      ],
      "execution_count": 74,
      "outputs": []
    },
    {
      "cell_type": "code",
      "metadata": {
        "colab": {
          "base_uri": "https://localhost:8080/",
          "height": 350
        },
        "id": "DDDnpwpPpwmJ",
        "outputId": "c2e6a3bd-d886-4c34-b0d1-ffd39873a862"
      },
      "source": [
        "\n",
        "import seaborn as sns\n",
        "sns.countplot(df['Score'])"
      ],
      "execution_count": 75,
      "outputs": [
        {
          "output_type": "stream",
          "name": "stderr",
          "text": [
            "/usr/local/lib/python3.7/dist-packages/seaborn/_decorators.py:43: FutureWarning: Pass the following variable as a keyword arg: x. From version 0.12, the only valid positional argument will be `data`, and passing other arguments without an explicit keyword will result in an error or misinterpretation.\n",
            "  FutureWarning\n"
          ]
        },
        {
          "output_type": "execute_result",
          "data": {
            "text/plain": [
              "<matplotlib.axes._subplots.AxesSubplot at 0x7fe766546e90>"
            ]
          },
          "metadata": {},
          "execution_count": 75
        },
        {
          "output_type": "display_data",
          "data": {
            "image/png": "[encoded data removed]",
            "text/plain": [
              "<Figure size 432x288 with 1 Axes>"
            ]
          },
          "metadata": {
            "needs_background": "light"
          }
        }
      ]
    },
    {
      "cell_type": "code",
      "metadata": {
        "id": "oI8mPhxZpwjo"
      },
      "source": [
        "X_train, X_test, Y_train, Y_test= train_test_split(X,Y, test_size=0.3)"
      ],
      "execution_count": 90,
      "outputs": []
    },
    {
      "cell_type": "code",
      "metadata": {
        "id": "_T69g1AipwhL"
      },
      "source": [
        "from sklearn.feature_extraction.text import CountVectorizer"
      ],
      "execution_count": 91,
      "outputs": []
    },
    {
      "cell_type": "code",
      "metadata": {
        "id": "jJmAk0yzpwe0"
      },
      "source": [
        "vec = CountVectorizer()"
      ],
      "execution_count": 92,
      "outputs": []
    },
    {
      "cell_type": "code",
      "metadata": {
        "colab": {
          "base_uri": "https://localhost:8080/"
        },
        "id": "E3I6Xzjbpwco",
        "outputId": "c3c63653-884c-44d7-eb4f-695dc7290171"
      },
      "source": [
        "vec.fit(X_train)"
      ],
      "execution_count": 93,
      "outputs": [
        {
          "output_type": "execute_result",
          "data": {
            "text/plain": [
              "CountVectorizer(analyzer='word', binary=False, decode_error='strict',\n",
              "                dtype=<class 'numpy.int64'>, encoding='utf-8', input='content',\n",
              "                lowercase=True, max_df=1.0, max_features=None, min_df=1,\n",
              "                ngram_range=(1, 1), preprocessor=None, stop_words=None,\n",
              "                strip_accents=None, token_pattern='(?u)\\\\b\\\\w\\\\w+\\\\b',\n",
              "                tokenizer=None, vocabulary=None)"
            ]
          },
          "metadata": {},
          "execution_count": 93
        }
      ]
    },
    {
      "cell_type": "code",
      "metadata": {
        "id": "C8C5HJ2gpwaq"
      },
      "source": [
        "x_train=vec.transform(X_train)"
      ],
      "execution_count": 94,
      "outputs": []
    },
    {
      "cell_type": "code",
      "metadata": {
        "id": "pVcSm-d2st3H"
      },
      "source": [
        "\n",
        "x_test=vec.transform(X_test)"
      ],
      "execution_count": 95,
      "outputs": []
    },
    {
      "cell_type": "code",
      "metadata": {
        "colab": {
          "base_uri": "https://localhost:8080/"
        },
        "id": "AAgRemdYpwYU",
        "outputId": "615dda86-3e1c-40d6-bd01-769e9c82addc"
      },
      "source": [
        "x_train"
      ],
      "execution_count": 96,
      "outputs": [
        {
          "output_type": "execute_result",
          "data": {
            "text/plain": [
              "<700x2445 sparse matrix of type '<class 'numpy.int64'>'\n",
              "\twith 8564 stored elements in Compressed Sparse Row format>"
            ]
          },
          "metadata": {},
          "execution_count": 96
        }
      ]
    },
    {
      "cell_type": "code",
      "metadata": {
        "id": "Jx8lHlhKpwWG"
      },
      "source": [
        "from tensorflow.keras.models import Sequential\n",
        "from tensorflow.keras.layers import Dense\n",
        "from tensorflow.keras.optimizers import Adam\n",
        "model = Sequential()\n",
        "model.add(Dense(16, input_dim=x_train.shape[1], activation='relu'))\n",
        "model.add(Dense(16, activation='relu'))\n",
        "model.add(Dense(1, activation='sigmoid'))\n",
        "model.compile(loss='binary_crossentropy',optimizer='Adam',metrics=['accuracy'])"
      ],
      "execution_count": 97,
      "outputs": []
    },
    {
      "cell_type": "code",
      "metadata": {
        "colab": {
          "base_uri": "https://localhost:8080/"
        },
        "id": "qofgCk8ipwT1",
        "outputId": "87b39d18-0878-4f44-acc7-d8bff28c0b48"
      },
      "source": [
        "model.summary()"
      ],
      "execution_count": 98,
      "outputs": [
        {
          "output_type": "stream",
          "name": "stdout",
          "text": [
            "Model: \"sequential_1\"\n",
            "_________________________________________________________________\n",
            "Layer (type)                 Output Shape              Param #   \n",
            "=================================================================\n",
            "dense_3 (Dense)              (None, 16)                39136     \n",
            "_________________________________________________________________\n",
            "dense_4 (Dense)              (None, 16)                272       \n",
            "_________________________________________________________________\n",
            "dense_5 (Dense)              (None, 1)                 17        \n",
            "=================================================================\n",
            "Total params: 39,425\n",
            "Trainable params: 39,425\n",
            "Non-trainable params: 0\n",
            "_________________________________________________________________\n"
          ]
        }
      ]
    },
    {
      "cell_type": "code",
      "metadata": {
        "colab": {
          "base_uri": "https://localhost:8080/"
        },
        "id": "kykrpJU2pwRl",
        "outputId": "0f82d0bf-d0ef-4510-efe1-19c7b33e2e1b"
      },
      "source": [
        "\n",
        "history = model.fit(x_train, Y_train,epochs=100,verbose=True,batch_size=16)"
      ],
      "execution_count": 99,
      "outputs": [
        {
          "output_type": "stream",
          "name": "stdout",
          "text": [
            "Epoch 1/100\n"
          ]
        },
        {
          "output_type": "stream",
          "name": "stderr",
          "text": [
            "/usr/local/lib/python3.7/dist-packages/tensorflow/python/framework/indexed_slices.py:449: UserWarning: Converting sparse IndexedSlices(IndexedSlices(indices=Tensor(\"gradient_tape/sequential_1/dense_3/embedding_lookup_sparse/Reshape_1:0\", shape=(None,), dtype=int32), values=Tensor(\"gradient_tape/sequential_1/dense_3/embedding_lookup_sparse/Reshape:0\", shape=(None, 16), dtype=float32), dense_shape=Tensor(\"gradient_tape/sequential_1/dense_3/embedding_lookup_sparse/Cast:0\", shape=(2,), dtype=int32))) to a dense Tensor of unknown shape. This may consume a large amount of memory.\n",
            "  \"shape. This may consume a large amount of memory.\" % value)\n"
          ]
        },
        {
          "output_type": "stream",
          "name": "stdout",
          "text": [
            "44/44 [==============================] - 1s 2ms/step - loss: 0.6916 - accuracy: 0.5371\n",
            "Epoch 2/100\n",
            "44/44 [==============================] - 0s 2ms/step - loss: 0.6534 - accuracy: 0.7971\n",
            "Epoch 3/100\n",
            "44/44 [==============================] - 0s 2ms/step - loss: 0.5472 - accuracy: 0.8786\n",
            "Epoch 4/100\n",
            "44/44 [==============================] - 0s 2ms/step - loss: 0.3560 - accuracy: 0.9357\n",
            "Epoch 5/100\n",
            "44/44 [==============================] - 0s 2ms/step - loss: 0.2040 - accuracy: 0.9686\n",
            "Epoch 6/100\n",
            "44/44 [==============================] - 0s 2ms/step - loss: 0.1196 - accuracy: 0.9900\n",
            "Epoch 7/100\n",
            "44/44 [==============================] - 0s 2ms/step - loss: 0.0745 - accuracy: 0.9957\n",
            "Epoch 8/100\n",
            "44/44 [==============================] - 0s 2ms/step - loss: 0.0499 - accuracy: 0.9971\n",
            "Epoch 9/100\n",
            "44/44 [==============================] - 0s 2ms/step - loss: 0.0357 - accuracy: 0.9986\n",
            "Epoch 10/100\n",
            "44/44 [==============================] - 0s 2ms/step - loss: 0.0268 - accuracy: 0.9986\n",
            "Epoch 11/100\n",
            "44/44 [==============================] - 0s 2ms/step - loss: 0.0208 - accuracy: 0.9986\n",
            "Epoch 12/100\n",
            "44/44 [==============================] - 0s 2ms/step - loss: 0.0163 - accuracy: 0.9986\n",
            "Epoch 13/100\n",
            "44/44 [==============================] - 0s 2ms/step - loss: 0.0131 - accuracy: 0.9986\n",
            "Epoch 14/100\n",
            "44/44 [==============================] - 0s 2ms/step - loss: 0.0106 - accuracy: 0.9986\n",
            "Epoch 15/100\n",
            "44/44 [==============================] - 0s 2ms/step - loss: 0.0087 - accuracy: 1.0000\n",
            "Epoch 16/100\n",
            "44/44 [==============================] - 0s 2ms/step - loss: 0.0073 - accuracy: 1.0000\n",
            "Epoch 17/100\n",
            "44/44 [==============================] - 0s 2ms/step - loss: 0.0061 - accuracy: 1.0000\n",
            "Epoch 18/100\n",
            "44/44 [==============================] - 0s 2ms/step - loss: 0.0052 - accuracy: 1.0000\n",
            "Epoch 19/100\n",
            "44/44 [==============================] - 0s 2ms/step - loss: 0.0045 - accuracy: 1.0000\n",
            "Epoch 20/100\n",
            "44/44 [==============================] - 0s 2ms/step - loss: 0.0038 - accuracy: 1.0000\n",
            "Epoch 21/100\n",
            "44/44 [==============================] - 0s 2ms/step - loss: 0.0034 - accuracy: 1.0000\n",
            "Epoch 22/100\n",
            "44/44 [==============================] - 0s 2ms/step - loss: 0.0030 - accuracy: 1.0000\n",
            "Epoch 23/100\n",
            "44/44 [==============================] - 0s 2ms/step - loss: 0.0026 - accuracy: 1.0000\n",
            "Epoch 24/100\n",
            "44/44 [==============================] - 0s 2ms/step - loss: 0.0024 - accuracy: 1.0000\n",
            "Epoch 25/100\n",
            "44/44 [==============================] - 0s 2ms/step - loss: 0.0021 - accuracy: 1.0000\n",
            "Epoch 26/100\n",
            "44/44 [==============================] - 0s 2ms/step - loss: 0.0019 - accuracy: 1.0000\n",
            "Epoch 27/100\n",
            "44/44 [==============================] - 0s 2ms/step - loss: 0.0017 - accuracy: 1.0000\n",
            "Epoch 28/100\n",
            "44/44 [==============================] - 0s 2ms/step - loss: 0.0016 - accuracy: 1.0000\n",
            "Epoch 29/100\n",
            "44/44 [==============================] - 0s 2ms/step - loss: 0.0014 - accuracy: 1.0000\n",
            "Epoch 30/100\n",
            "44/44 [==============================] - 0s 2ms/step - loss: 0.0013 - accuracy: 1.0000\n",
            "Epoch 31/100\n",
            "44/44 [==============================] - 0s 2ms/step - loss: 0.0012 - accuracy: 1.0000\n",
            "Epoch 32/100\n",
            "44/44 [==============================] - 0s 2ms/step - loss: 0.0011 - accuracy: 1.0000\n",
            "Epoch 33/100\n",
            "44/44 [==============================] - 0s 2ms/step - loss: 0.0010 - accuracy: 1.0000\n",
            "Epoch 34/100\n",
            "44/44 [==============================] - 0s 2ms/step - loss: 9.4580e-04 - accuracy: 1.0000\n",
            "Epoch 35/100\n",
            "44/44 [==============================] - 0s 2ms/step - loss: 8.7508e-04 - accuracy: 1.0000\n",
            "Epoch 36/100\n",
            "44/44 [==============================] - 0s 2ms/step - loss: 8.1641e-04 - accuracy: 1.0000\n",
            "Epoch 37/100\n",
            "44/44 [==============================] - 0s 2ms/step - loss: 7.5926e-04 - accuracy: 1.0000\n",
            "Epoch 38/100\n",
            "44/44 [==============================] - 0s 2ms/step - loss: 7.0882e-04 - accuracy: 1.0000\n",
            "Epoch 39/100\n",
            "44/44 [==============================] - 0s 2ms/step - loss: 6.6455e-04 - accuracy: 1.0000\n",
            "Epoch 40/100\n",
            "44/44 [==============================] - 0s 2ms/step - loss: 6.2162e-04 - accuracy: 1.0000\n",
            "Epoch 41/100\n",
            "44/44 [==============================] - 0s 2ms/step - loss: 5.8287e-04 - accuracy: 1.0000\n",
            "Epoch 42/100\n",
            "44/44 [==============================] - 0s 2ms/step - loss: 5.4658e-04 - accuracy: 1.0000\n",
            "Epoch 43/100\n",
            "44/44 [==============================] - 0s 2ms/step - loss: 5.1347e-04 - accuracy: 1.0000\n",
            "Epoch 44/100\n",
            "44/44 [==============================] - 0s 2ms/step - loss: 4.8444e-04 - accuracy: 1.0000\n",
            "Epoch 45/100\n",
            "44/44 [==============================] - 0s 2ms/step - loss: 4.5672e-04 - accuracy: 1.0000\n",
            "Epoch 46/100\n",
            "44/44 [==============================] - 0s 2ms/step - loss: 4.3191e-04 - accuracy: 1.0000\n",
            "Epoch 47/100\n",
            "44/44 [==============================] - 0s 2ms/step - loss: 4.0742e-04 - accuracy: 1.0000\n",
            "Epoch 48/100\n",
            "44/44 [==============================] - 0s 2ms/step - loss: 3.8543e-04 - accuracy: 1.0000\n",
            "Epoch 49/100\n",
            "44/44 [==============================] - 0s 2ms/step - loss: 3.6446e-04 - accuracy: 1.0000\n",
            "Epoch 50/100\n",
            "44/44 [==============================] - 0s 2ms/step - loss: 3.4559e-04 - accuracy: 1.0000\n",
            "Epoch 51/100\n",
            "44/44 [==============================] - 0s 2ms/step - loss: 3.2798e-04 - accuracy: 1.0000\n",
            "Epoch 52/100\n",
            "44/44 [==============================] - 0s 2ms/step - loss: 3.1108e-04 - accuracy: 1.0000\n",
            "Epoch 53/100\n",
            "44/44 [==============================] - 0s 2ms/step - loss: 2.9527e-04 - accuracy: 1.0000\n",
            "Epoch 54/100\n",
            "44/44 [==============================] - 0s 2ms/step - loss: 2.8146e-04 - accuracy: 1.0000\n",
            "Epoch 55/100\n",
            "44/44 [==============================] - 0s 2ms/step - loss: 2.6762e-04 - accuracy: 1.0000\n",
            "Epoch 56/100\n",
            "44/44 [==============================] - 0s 2ms/step - loss: 2.5517e-04 - accuracy: 1.0000\n",
            "Epoch 57/100\n",
            "44/44 [==============================] - 0s 2ms/step - loss: 2.4337e-04 - accuracy: 1.0000\n",
            "Epoch 58/100\n",
            "44/44 [==============================] - 0s 2ms/step - loss: 2.3210e-04 - accuracy: 1.0000\n",
            "Epoch 59/100\n",
            "44/44 [==============================] - 0s 2ms/step - loss: 2.2184e-04 - accuracy: 1.0000\n",
            "Epoch 60/100\n",
            "44/44 [==============================] - 0s 2ms/step - loss: 2.1115e-04 - accuracy: 1.0000\n",
            "Epoch 61/100\n",
            "44/44 [==============================] - 0s 2ms/step - loss: 2.0178e-04 - accuracy: 1.0000\n",
            "Epoch 62/100\n",
            "44/44 [==============================] - 0s 2ms/step - loss: 1.9335e-04 - accuracy: 1.0000\n",
            "Epoch 63/100\n",
            "44/44 [==============================] - 0s 2ms/step - loss: 1.8488e-04 - accuracy: 1.0000\n",
            "Epoch 64/100\n",
            "44/44 [==============================] - 0s 2ms/step - loss: 1.7735e-04 - accuracy: 1.0000\n",
            "Epoch 65/100\n",
            "44/44 [==============================] - 0s 2ms/step - loss: 1.6984e-04 - accuracy: 1.0000\n",
            "Epoch 66/100\n",
            "44/44 [==============================] - 0s 2ms/step - loss: 1.6260e-04 - accuracy: 1.0000\n",
            "Epoch 67/100\n",
            "44/44 [==============================] - 0s 2ms/step - loss: 1.5585e-04 - accuracy: 1.0000\n",
            "Epoch 68/100\n",
            "44/44 [==============================] - 0s 2ms/step - loss: 1.4956e-04 - accuracy: 1.0000\n",
            "Epoch 69/100\n",
            "44/44 [==============================] - 0s 2ms/step - loss: 1.4341e-04 - accuracy: 1.0000\n",
            "Epoch 70/100\n",
            "44/44 [==============================] - 0s 2ms/step - loss: 1.3798e-04 - accuracy: 1.0000\n",
            "Epoch 71/100\n",
            "44/44 [==============================] - 0s 2ms/step - loss: 1.3224e-04 - accuracy: 1.0000\n",
            "Epoch 72/100\n",
            "44/44 [==============================] - 0s 2ms/step - loss: 1.2712e-04 - accuracy: 1.0000\n",
            "Epoch 73/100\n",
            "44/44 [==============================] - 0s 2ms/step - loss: 1.2217e-04 - accuracy: 1.0000\n",
            "Epoch 74/100\n",
            "44/44 [==============================] - 0s 2ms/step - loss: 1.1738e-04 - accuracy: 1.0000\n",
            "Epoch 75/100\n",
            "44/44 [==============================] - 0s 2ms/step - loss: 1.1269e-04 - accuracy: 1.0000\n",
            "Epoch 76/100\n",
            "44/44 [==============================] - 0s 2ms/step - loss: 1.0854e-04 - accuracy: 1.0000\n",
            "Epoch 77/100\n",
            "44/44 [==============================] - 0s 2ms/step - loss: 1.0409e-04 - accuracy: 1.0000\n",
            "Epoch 78/100\n",
            "44/44 [==============================] - 0s 2ms/step - loss: 1.0047e-04 - accuracy: 1.0000\n",
            "Epoch 79/100\n",
            "44/44 [==============================] - 0s 2ms/step - loss: 9.6540e-05 - accuracy: 1.0000\n",
            "Epoch 80/100\n",
            "44/44 [==============================] - 0s 2ms/step - loss: 9.3022e-05 - accuracy: 1.0000\n",
            "Epoch 81/100\n",
            "44/44 [==============================] - 0s 2ms/step - loss: 8.9687e-05 - accuracy: 1.0000\n",
            "Epoch 82/100\n",
            "44/44 [==============================] - 0s 2ms/step - loss: 8.6293e-05 - accuracy: 1.0000\n",
            "Epoch 83/100\n",
            "44/44 [==============================] - 0s 2ms/step - loss: 8.3149e-05 - accuracy: 1.0000\n",
            "Epoch 84/100\n",
            "44/44 [==============================] - 0s 2ms/step - loss: 8.0131e-05 - accuracy: 1.0000\n",
            "Epoch 85/100\n",
            "44/44 [==============================] - 0s 2ms/step - loss: 7.7536e-05 - accuracy: 1.0000\n",
            "Epoch 86/100\n",
            "44/44 [==============================] - 0s 2ms/step - loss: 7.4709e-05 - accuracy: 1.0000\n",
            "Epoch 87/100\n",
            "44/44 [==============================] - 0s 2ms/step - loss: 7.2114e-05 - accuracy: 1.0000\n",
            "Epoch 88/100\n",
            "44/44 [==============================] - 0s 2ms/step - loss: 6.9571e-05 - accuracy: 1.0000\n",
            "Epoch 89/100\n",
            "44/44 [==============================] - 0s 2ms/step - loss: 6.7311e-05 - accuracy: 1.0000\n",
            "Epoch 90/100\n",
            "44/44 [==============================] - 0s 2ms/step - loss: 6.4958e-05 - accuracy: 1.0000\n",
            "Epoch 91/100\n",
            "44/44 [==============================] - 0s 2ms/step - loss: 6.2858e-05 - accuracy: 1.0000\n",
            "Epoch 92/100\n",
            "44/44 [==============================] - 0s 2ms/step - loss: 6.0641e-05 - accuracy: 1.0000\n",
            "Epoch 93/100\n",
            "44/44 [==============================] - 0s 2ms/step - loss: 5.8596e-05 - accuracy: 1.0000\n",
            "Epoch 94/100\n",
            "44/44 [==============================] - 0s 2ms/step - loss: 5.6566e-05 - accuracy: 1.0000\n",
            "Epoch 95/100\n",
            "44/44 [==============================] - 0s 2ms/step - loss: 5.4818e-05 - accuracy: 1.0000\n",
            "Epoch 96/100\n",
            "44/44 [==============================] - 0s 2ms/step - loss: 5.2943e-05 - accuracy: 1.0000\n",
            "Epoch 97/100\n",
            "44/44 [==============================] - 0s 2ms/step - loss: 5.1186e-05 - accuracy: 1.0000\n",
            "Epoch 98/100\n",
            "44/44 [==============================] - 0s 2ms/step - loss: 4.9491e-05 - accuracy: 1.0000\n",
            "Epoch 99/100\n",
            "44/44 [==============================] - 0s 2ms/step - loss: 4.7948e-05 - accuracy: 1.0000\n",
            "Epoch 100/100\n",
            "44/44 [==============================] - 0s 2ms/step - loss: 4.6348e-05 - accuracy: 1.0000\n"
          ]
        }
      ]
    },
    {
      "cell_type": "code",
      "metadata": {
        "colab": {
          "base_uri": "https://localhost:8080/"
        },
        "id": "P2cLTIh8pwPW",
        "outputId": "ce5f8280-75e9-4dbc-bf88-3b3b34831ccc"
      },
      "source": [
        "model.evaluate(x_train,Y_train)"
      ],
      "execution_count": 100,
      "outputs": [
        {
          "output_type": "stream",
          "name": "stdout",
          "text": [
            "22/22 [==============================] - 0s 1ms/step - loss: 4.5298e-05 - accuracy: 1.0000\n"
          ]
        },
        {
          "output_type": "execute_result",
          "data": {
            "text/plain": [
              "[4.5298253098735586e-05, 1.0]"
            ]
          },
          "metadata": {},
          "execution_count": 100
        }
      ]
    },
    {
      "cell_type": "code",
      "metadata": {
        "colab": {
          "base_uri": "https://localhost:8080/"
        },
        "id": "0z3rRK3hrSg-",
        "outputId": "c20cf1ab-89bd-4a8b-b38a-f45c05eb7dd6"
      },
      "source": [
        "model.evaluate(x_test,Y_test)\n",
        "\n"
      ],
      "execution_count": 101,
      "outputs": [
        {
          "output_type": "stream",
          "name": "stdout",
          "text": [
            "10/10 [==============================] - 0s 2ms/step - loss: 1.2884 - accuracy: 0.7733\n"
          ]
        },
        {
          "output_type": "execute_result",
          "data": {
            "text/plain": [
              "[1.28835928440094, 0.7733333110809326]"
            ]
          },
          "metadata": {},
          "execution_count": 101
        }
      ]
    },
    {
      "cell_type": "code",
      "metadata": {
        "id": "wdWNuxqvrTjv"
      },
      "source": [
        "from sklearn.feature_extraction.text import TfidfVectorizer"
      ],
      "execution_count": 102,
      "outputs": []
    },
    {
      "cell_type": "code",
      "metadata": {
        "id": "TDaDTN2drTgW"
      },
      "source": [
        "vec = TfidfVectorizer()"
      ],
      "execution_count": 103,
      "outputs": []
    },
    {
      "cell_type": "code",
      "metadata": {
        "colab": {
          "base_uri": "https://localhost:8080/"
        },
        "id": "GqBel053rTeP",
        "outputId": "199c3305-fb83-4acf-8ea3-d671e31f53de"
      },
      "source": [
        "vec.fit(X_train)"
      ],
      "execution_count": 104,
      "outputs": [
        {
          "output_type": "execute_result",
          "data": {
            "text/plain": [
              "TfidfVectorizer(analyzer='word', binary=False, decode_error='strict',\n",
              "                dtype=<class 'numpy.float64'>, encoding='utf-8',\n",
              "                input='content', lowercase=True, max_df=1.0, max_features=None,\n",
              "                min_df=1, ngram_range=(1, 1), norm='l2', preprocessor=None,\n",
              "                smooth_idf=True, stop_words=None, strip_accents=None,\n",
              "                sublinear_tf=False, token_pattern='(?u)\\\\b\\\\w\\\\w+\\\\b',\n",
              "                tokenizer=None, use_idf=True, vocabulary=None)"
            ]
          },
          "metadata": {},
          "execution_count": 104
        }
      ]
    },
    {
      "cell_type": "code",
      "metadata": {
        "id": "M4l86cBfrTcN"
      },
      "source": [
        "x_train=vec.transform(X_train)"
      ],
      "execution_count": 105,
      "outputs": []
    },
    {
      "cell_type": "code",
      "metadata": {
        "id": "HfhAgH9frTaK"
      },
      "source": [
        "x_test=vec.transform(X_test)"
      ],
      "execution_count": 106,
      "outputs": []
    },
    {
      "cell_type": "code",
      "metadata": {
        "colab": {
          "base_uri": "https://localhost:8080/"
        },
        "id": "KOOjwNddrTX9",
        "outputId": "e9e2d492-d724-43a1-84a7-afceb1b5d2f7"
      },
      "source": [
        "x_train"
      ],
      "execution_count": 107,
      "outputs": [
        {
          "output_type": "execute_result",
          "data": {
            "text/plain": [
              "<700x2445 sparse matrix of type '<class 'numpy.float64'>'\n",
              "\twith 8564 stored elements in Compressed Sparse Row format>"
            ]
          },
          "metadata": {},
          "execution_count": 107
        }
      ]
    },
    {
      "cell_type": "code",
      "metadata": {
        "colab": {
          "base_uri": "https://localhost:8080/"
        },
        "id": "GogCTD1_rTVX",
        "outputId": "cf36b142-b054-44fc-9414-413c7bd693a9"
      },
      "source": [
        "from sklearn.linear_model import LogisticRegression\n",
        "lr = LogisticRegression()\n",
        "lr.fit(x_train, Y_train)"
      ],
      "execution_count": 108,
      "outputs": [
        {
          "output_type": "execute_result",
          "data": {
            "text/plain": [
              "LogisticRegression(C=1.0, class_weight=None, dual=False, fit_intercept=True,\n",
              "                   intercept_scaling=1, l1_ratio=None, max_iter=100,\n",
              "                   multi_class='auto', n_jobs=None, penalty='l2',\n",
              "                   random_state=None, solver='lbfgs', tol=0.0001, verbose=0,\n",
              "                   warm_start=False)"
            ]
          },
          "metadata": {},
          "execution_count": 108
        }
      ]
    },
    {
      "cell_type": "code",
      "metadata": {
        "id": "JZ1sVV0YrTTK"
      },
      "source": [
        "score_test = lr.score(x_test, Y_test)"
      ],
      "execution_count": 109,
      "outputs": []
    },
    {
      "cell_type": "code",
      "metadata": {
        "colab": {
          "base_uri": "https://localhost:8080/"
        },
        "id": "fP_dj2UPrTRF",
        "outputId": "1dcda73f-31ca-4d4e-a562-1aae47f15336"
      },
      "source": [
        "score_test"
      ],
      "execution_count": 110,
      "outputs": [
        {
          "output_type": "execute_result",
          "data": {
            "text/plain": [
              "0.77"
            ]
          },
          "metadata": {},
          "execution_count": 110
        }
      ]
    },
    {
      "cell_type": "code",
      "metadata": {
        "id": "THsjjShtrTO4"
      },
      "source": [
        "score_train = lr.score(x_train, Y_train)"
      ],
      "execution_count": 111,
      "outputs": []
    },
    {
      "cell_type": "code",
      "metadata": {
        "colab": {
          "base_uri": "https://localhost:8080/"
        },
        "id": "QSa1HaZcrTMm",
        "outputId": "86a9eb34-34a4-44ea-b382-09ff5f2197e3"
      },
      "source": [
        "score_train"
      ],
      "execution_count": 112,
      "outputs": [
        {
          "output_type": "execute_result",
          "data": {
            "text/plain": [
              "0.9642857142857143"
            ]
          },
          "metadata": {},
          "execution_count": 112
        }
      ]
    }
  ]
}